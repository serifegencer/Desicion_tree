import seaborn as sns  
import pandas
a=pandas.read_table("covid.txt")
print(a )

sns.pairplot(a, kind = "reg")
a.values
a.index
a.shape
a.columns
a.ağır_hasta_sayısı 
"hastalarda_zatüre_oranı" in a , " yas" in a
a*2
a.isnull()
a.dtypes
a.hastalarda_zatüre_oranı.describe()
a.hastalarda_zatüre_oranı.value_counts(normalize=True)
a.hastalarda_zatüre_oranı.unique()

a.hastalarda_zatüre_oranı.nunique()
a.head(5)
a.tail(5)
a.corr()
import seaborn as sns

sns.heatmap(a.corr())
a.iloc[0:4,1:4]


import pandas as pd
 
data = {
        "toplam_vaka_sayısı":[233851,234934,236112,238450,239622,240804,243180,244392,245635,246861,248117,249309],
        "toplam_vefat_sayısı":[5747,5765,5784,5813,5829,5844,5873,5891,5912,5934,5955,5974],
        "hastalarda_zatüre_oranı":[8.4,8.5,8.4,8.3,8.1,8.1,8.2,8.2,7.9,7.8,7.6,7.6],
        "ağır_hasta_sayısı":[580,583,582,586,587,596,617,632,647,656,668,679]}                                                                                                
indeksler = [1,2,3,4,5,6,7,8,9,10,11,12] 
 
data = pd.DataFrame(data=data,index=indeksler)

data.duplicated()

data.duplicated(["hastalarda_zatüre_oranı"])
data.sample(4)

a.loc[[4,7,11],]

from matplotlib import pyplot as plt                 
%matplotlib inline
a.hastalarda_zatüre_oranı.plot()
plt.ylabel("hastalarda_zatüre_oranı")
plt.show()
a.ağır_hasta_sayısı.plot()
plt.ylabel("ağır_hasta_sayısı")
plt.show()

a.plot()


plt.bar([1,2,3,4,5],[233851,234934,236112,238450,239622],
label="toplam_vaka_sayısı",color= 'r', width=.5)
plt.bar([1,2,3,4,5],[5747,5765,5784,5813,5829],
label="toplam_vefat_sayısı " , color = 'b' , width=.5)
plt.legend()
plt.xlabel('Günler')
plt.show()

a.plot.scatter(x="ağır_hasta_sayısı", y="hastalarda_zatüre_oranı")

sns.kdeplot(a.toplam_vefat_sayısı, a.ağır_hasta_sayısı)

%%html
<img src ="karar ağacı.png", width=1300 , height=800 >

# Kategorik Olmayan Değişkenler
toplam_vaka_sayısı = data[["toplam_vaka_sayısı"]]
toplam_vefat_sayısı = data[["toplam_vefat_sayısı"]]
hastalarda_zatüre_oranı=data[["hastalarda_zatüre_oranı"]]
ağır_hasta_sayısı=data[["ağır_hasta_sayısı"]]

new_data = pd.concat([toplam_vaka_sayısı,toplam_vefat_sayısı, hastalarda_zatüre_oranı,ağır_hasta_sayısı], axis=1)

training =new_data.iloc[:,0:3]
testing =new_data.iloc[:,3:4]

from sklearn.model_selection import train_test_split

x_train, x_test, y_train, y_test = train_test_split(training, testing, test_size=0.50, random_state=42)
from sklearn.tree import DecisionTreeRegressor

dtr=DecisionTreeRegressor(random_state =0)

dtr.fit(x_train, y_train)

y_pred = dtr.predict(x_test)

y_tahmin = pd.DataFrame(data = y_pred)
y_tahmin.index = y_test.index

result = pd.concat([y_tahmin, y_test],axis=1)
result.columns = [["Tahmin","Gerçek"]]

print(result)


import statsmodels.api as sm
decision_tree = sm.OLS(dtr.predict(x_train), x_train)
model = decision_tree.fit()
model.summary()

import numpy as np

from sklearn.metrics import mean_squared_error 
mse = np.sqrt(mean_squared_error(y_train, model.predict(x_train)))
print("Train RMSE: ", mse)
mse = np.sqrt(mean_squared_error(y_test, model.predict(x_test)))
print("Test RMSE: ", mse)

training = new_data.iloc[:, 0:2]
testing = new_data.iloc[:, 3:4]

from sklearn.model_selection import train_test_split

x_train, x_test, y_train, y_test = train_test_split(training, testing, test_size=0.50, random_state=42)

import statsmodels.api as sm
from sklearn.tree import DecisionTreeRegressor

dtr = DecisionTreeRegressor(random_state = 0)
dtr.fit(x_train, y_train)

decision_tree = sm.OLS(dtr.predict(x_train), x_train)
model = decision_tree.fit()
model.summary()

from sklearn.metrics import mean_squared_error 

mse = np.sqrt(mean_squared_error(y_train, model.predict(x_train)))
print("Train RMSE: ", mse)
mse = np.sqrt(mean_squared_error(y_test, model.predict(x_test)))
print("Test RMSE: ", mse)

new_data = pd.concat([toplam_vaka_sayısı,toplam_vefat_sayısı,hastalarda_zatüre_oranı,ağır_hasta_sayısı], axis=1)

training =new_data.iloc[:, 0:2]
testing =new_data.iloc[:, 2:3]

from sklearn.model_selection import train_test_split

x_train, x_test, y_train, y_test = train_test_split(training, testing, test_size=0.50, random_state=42)

from sklearn.tree import DecisionTreeRegressor

s=DecisionTreeRegressor(random_state =0)

s.fit(x_train, y_train)

y_pred = s.predict(x_test)

y_tahmin = pd.DataFrame(data = y_pred)
y_tahmin.index = y_test.index

result = pd.concat([y_tahmin, y_test],axis=1)
result.columns = [["Tahmin","Gerçek"]]

print(result)


import statsmodels.api as sm
decision_tree = sm.OLS(s.predict(x_train), x_train)
model = decision_tree.fit()
model.summary()

from sklearn.metrics import mean_squared_error 

mse = np.sqrt(mean_squared_error(y_train, model.predict(x_train)))
print("Train RMSE: ", mse)
mse = np.sqrt(mean_squared_error(y_test, model.predict(x_test)))
print("Test RMSE: ", mse)


training = new_data.iloc[:, 0:1]
testing = new_data.iloc[:, 2:3]

x_train, x_test, y_train, y_test = train_test_split(training, testing, test_size=0.50, random_state=42)

import statsmodels.api as sm
from sklearn.tree import DecisionTreeRegressor

s = DecisionTreeRegressor(random_state = 0)
s.fit(x_train, y_train)

decision_tree = sm.OLS(s.predict(x_train), x_train)
model = decision_tree.fit()
model.summary()

from sklearn.metrics import mean_squared_error 

mse = np.sqrt(mean_squared_error(y_train, model.predict(x_train)))
print("Train RMSE: ", mse)
mse = np.sqrt(mean_squared_error(y_test, model.predict(x_test)))
print("Test RMSE: ", mse)
